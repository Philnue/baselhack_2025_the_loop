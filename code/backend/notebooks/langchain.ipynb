{
 "cells": [
  {
   "cell_type": "code",
   "execution_count": 1,
   "id": "df088a42",
   "metadata": {},
   "outputs": [],
   "source": [
    "import os\n",
    "\n",
    "from typing import cast\n",
    "\n",
    "from dotenv import load_dotenv\n",
    "from langchain_core.language_models import LanguageModelInput\n",
    "from langchain_core.runnables import Runnable\n",
    "from langchain_openai import AzureChatOpenAI\n",
    "from pydantic import BaseModel"
   ]
  },
  {
   "cell_type": "code",
   "execution_count": 2,
   "id": "c26b0c48",
   "metadata": {},
   "outputs": [],
   "source": [
    "_ = load_dotenv()"
   ]
  },
  {
   "cell_type": "code",
   "execution_count": 3,
   "id": "bcf83358",
   "metadata": {},
   "outputs": [],
   "source": [
    "# TODO: Discuss which LLM to use...\n",
    "llm = AzureChatOpenAI(\n",
    "    azure_endpoint=os.environ[\"AZURE_OPENAI_ENDPOINT\"],\n",
    "    api_key=os.environ[\"AZURE_OPENAI_API_KEY\"],\n",
    "    api_version=os.environ[\"AZURE_OPENAI_API_VERSION\"],\n",
    "    model=os.environ[\"AZURE_OPENAI_MODEL\"],\n",
    ")"
   ]
  },
  {
   "cell_type": "code",
   "execution_count": 4,
   "id": "61cb8012",
   "metadata": {},
   "outputs": [
    {
     "data": {
      "text/plain": [
       "AIMessage(content='Hello! How can I assist you today?', additional_kwargs={'refusal': None}, response_metadata={'token_usage': {'completion_tokens': 10, 'prompt_tokens': 8, 'total_tokens': 18, 'completion_tokens_details': {'accepted_prediction_tokens': 0, 'audio_tokens': 0, 'reasoning_tokens': 0, 'rejected_prediction_tokens': 0}, 'prompt_tokens_details': {'audio_tokens': 0, 'cached_tokens': 0}}, 'model_provider': 'openai', 'model_name': 'gpt-4o-2024-08-06', 'system_fingerprint': 'fp_4a331a0222', 'id': 'chatcmpl-CWu2cwoxeFQa1KKq8UbYWmVtezeiH', 'prompt_filter_results': [{'prompt_index': 0, 'content_filter_results': {'hate': {'filtered': False, 'severity': 'safe'}, 'self_harm': {'filtered': False, 'severity': 'safe'}, 'sexual': {'filtered': False, 'severity': 'safe'}, 'violence': {'filtered': False, 'severity': 'safe'}}}], 'finish_reason': 'stop', 'logprobs': None, 'content_filter_results': {'hate': {'filtered': False, 'severity': 'safe'}, 'self_harm': {'filtered': False, 'severity': 'safe'}, 'sexual': {'filtered': False, 'severity': 'safe'}, 'violence': {'filtered': False, 'severity': 'safe'}}}, id='lc_run--2b60402e-5426-4fc0-8216-5ecadac51615-0', usage_metadata={'input_tokens': 8, 'output_tokens': 10, 'total_tokens': 18, 'input_token_details': {'audio': 0, 'cache_read': 0}, 'output_token_details': {'audio': 0, 'reasoning': 0}})"
      ]
     },
     "execution_count": 4,
     "metadata": {},
     "output_type": "execute_result"
    }
   ],
   "source": [
    "llm.invoke(\"Hi\")"
   ]
  },
  {
   "cell_type": "code",
   "execution_count": 5,
   "id": "99ba9bea",
   "metadata": {},
   "outputs": [],
   "source": [
    "class Model(BaseModel):\n",
    "    name: str\n",
    "    description: str"
   ]
  },
  {
   "cell_type": "code",
   "execution_count": 6,
   "id": "3b4840f5",
   "metadata": {},
   "outputs": [],
   "source": [
    "llm = AzureChatOpenAI(\n",
    "    azure_endpoint=os.environ[\"AZURE_OPENAI_ENDPOINT\"],\n",
    "    api_key=os.environ[\"AZURE_OPENAI_API_KEY\"],\n",
    "    api_version=os.environ[\"AZURE_OPENAI_API_VERSION\"],\n",
    "    model=os.environ[\"AZURE_OPENAI_MODEL\"],\n",
    "    temperature=0,\n",
    ")\n",
    "\n",
    "structured_llm = cast(Runnable[LanguageModelInput, Model], llm.with_structured_output(Model))"
   ]
  },
  {
   "cell_type": "code",
   "execution_count": 7,
   "id": "93f5518b",
   "metadata": {},
   "outputs": [
    {
     "data": {
      "text/plain": [
       "Model(name='Test', description='A test model is a simplified representation or prototype used to evaluate, validate, or demonstrate the functionality, performance, or design of a system, product, or concept. It serves as a tool for experimentation and analysis, allowing developers, engineers, or researchers to identify potential issues, gather feedback, and make informed decisions before proceeding to full-scale development or implementation. \\n\\n### Key Features:\\n\\n1. **Purposeful Design:**\\n   - Created with specific objectives in mind, such as testing hypotheses, verifying assumptions, or exploring new ideas.\\n\\n2. **Iterative Process:**\\n   - Often involves multiple iterations, where the model is refined based on test results and feedback.\\n\\n3. **Controlled Environment:**\\n   - Conducted in a controlled setting to isolate variables and ensure accurate measurement of outcomes.\\n\\n4. **Scalability:**\\n   - Designed to be scalable, allowing for adjustments in complexity or scope as needed.\\n\\n5. **Documentation:**\\n   - Comprehensive documentation of the test procedures, results, and conclusions to facilitate understanding and replication.\\n\\n### Applications:\\n\\n- **Software Development:**\\n  - Used to test new features, algorithms, or user interfaces before full deployment.\\n\\n- **Engineering:**\\n  - Employed in the design and testing of mechanical systems, structures, or materials.\\n\\n- **Scientific Research:**\\n  - Utilized to explore theoretical models, conduct experiments, or validate scientific theories.\\n\\n- **Product Design:**\\n  - Applied in the creation of prototypes to assess functionality, aesthetics, and user experience.\\n\\n### Benefits:\\n\\n- **Risk Mitigation:**\\n  - Helps identify potential flaws or risks early in the development process, reducing the likelihood of costly errors.\\n\\n- **Cost Efficiency:**\\n  - Allows for cost-effective testing and refinement before committing to full-scale production or implementation.\\n\\n- **Enhanced Innovation:**\\n  - Encourages creativity and innovation by providing a platform for experimentation and exploration.\\n\\n- **Improved Quality:**\\n  - Contributes to higher quality outcomes by enabling thorough testing and validation.\\n\\nIn summary, a test model is an invaluable tool in various fields, providing a structured approach to testing and development that enhances understanding, reduces risks, and fosters innovation.')"
      ]
     },
     "execution_count": 7,
     "metadata": {},
     "output_type": "execute_result"
    }
   ],
   "source": [
    "structured_llm.invoke(\"Name: Test\\nDescription: A test model\")"
   ]
  },
  {
   "cell_type": "code",
   "execution_count": null,
   "id": "aacc9a50",
   "metadata": {},
   "outputs": [],
   "source": []
  }
 ],
 "metadata": {
  "kernelspec": {
   "display_name": "backend (3.12.10)",
   "language": "python",
   "name": "python3"
  },
  "language_info": {
   "codemirror_mode": {
    "name": "ipython",
    "version": 3
   },
   "file_extension": ".py",
   "mimetype": "text/x-python",
   "name": "python",
   "nbconvert_exporter": "python",
   "pygments_lexer": "ipython3",
   "version": "3.12.10"
  }
 },
 "nbformat": 4,
 "nbformat_minor": 5
}
